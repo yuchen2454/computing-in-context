{
 "cells": [
  {
   "cell_type": "code",
   "execution_count": null,
   "id": "26db70e7",
   "metadata": {},
   "outputs": [
    {
     "ename": "",
     "evalue": "",
     "output_type": "error",
     "traceback": [
      "\u001b[1;31mRunning cells with 'Python 3.12.2' requires the ipykernel package.\n",
      "\u001b[1;31mRun the following command to install 'ipykernel' into the Python environment. \n",
      "\u001b[1;31mCommand: '/opt/homebrew/bin/python3 -m pip install ipykernel -U --user --force-reinstall'"
     ]
    }
   ],
   "source": [
    "import plotly.io as pio\n",
    "\n",
    "pio.renderers.default = \"vscode+jupyterlab+notebook_connected\""
   ]
  },
  {
   "cell_type": "markdown",
   "id": "68a40bca-6b69-4893-bdc6-6ad2ea05d5e5",
   "metadata": {},
   "source": [
    "# Project 1 \n",
    "### Analyzing NYC municipal employee payroll data"
   ]
  },
  {
   "cell_type": "markdown",
   "id": "2de05c39-3d93-4b7a-8750-fe4af9114490",
   "metadata": {},
   "source": [
    "## Part 0: Read the data\n",
    "\n",
    "Each record represents the following statistics for **every city employee**: Agency, Last Name, First Name, Middle Initial, Agency Start Date, Work Location Borough, Job Title Description, Leave Status as of the close of the FY (June 30th), Base Salary, Pay Basis, Regular Hours Paid, Regular Gross Paid, Overtime Hours worked, Total Overtime Paid, and Total Other Compensation (i.e. lump sum and/or retro payments). \n",
    "\n",
    "For this project, I will investigate the actual **base salary** paid to the municipal employees at **per annum basis** in fiscal year 2024, stored as `Regular Gross Paid`."
   ]
  },
  {
   "cell_type": "code",
   "execution_count": 77,
   "id": "4ff0bdeb-3fa3-4187-9e4d-bfaa6f662e45",
   "metadata": {},
   "outputs": [
    {
     "name": "stdout",
     "output_type": "stream",
     "text": [
      "<class 'pandas.core.frame.DataFrame'>\n",
      "RangeIndex: 562898 entries, 0 to 562897\n",
      "Data columns (total 17 columns):\n",
      " #   Column                      Non-Null Count   Dtype  \n",
      "---  ------                      --------------   -----  \n",
      " 0   Fiscal Year                 562898 non-null  int64  \n",
      " 1   Payroll Number              562898 non-null  int64  \n",
      " 2   Agency Name                 562898 non-null  object \n",
      " 3   Last Name                   562482 non-null  object \n",
      " 4   First Name                  562470 non-null  object \n",
      " 5   Mid Init                    327420 non-null  object \n",
      " 6   Agency Start Date           562821 non-null  object \n",
      " 7   Work Location Borough       562897 non-null  object \n",
      " 8   Title Description           562830 non-null  object \n",
      " 9   Leave Status as of June 30  562898 non-null  object \n",
      " 10  Base Salary                 562898 non-null  float64\n",
      " 11  Pay Basis                   562898 non-null  object \n",
      " 12  Regular Hours               562898 non-null  float64\n",
      " 13  Regular Gross Paid          562898 non-null  float64\n",
      " 14  OT Hours                    562898 non-null  float64\n",
      " 15  Total OT Paid               562898 non-null  float64\n",
      " 16  Total Other Pay             562898 non-null  float64\n",
      "dtypes: float64(6), int64(2), object(9)\n",
      "memory usage: 73.0+ MB\n"
     ]
    }
   ],
   "source": [
    "import pandas as pd\n",
    "\n",
    "payroll = pd.read_csv('Citywide_Payroll_Data_2024.csv')\n",
    "payroll.info()"
   ]
  },
  {
   "cell_type": "code",
   "execution_count": 78,
   "id": "71fcc58c-44a5-4a7e-83c8-44735bc73c7a",
   "metadata": {},
   "outputs": [
    {
     "data": {
      "text/html": [
       "<div>\n",
       "<style scoped>\n",
       "    .dataframe tbody tr th:only-of-type {\n",
       "        vertical-align: middle;\n",
       "    }\n",
       "\n",
       "    .dataframe tbody tr th {\n",
       "        vertical-align: top;\n",
       "    }\n",
       "\n",
       "    .dataframe thead th {\n",
       "        text-align: right;\n",
       "    }\n",
       "</style>\n",
       "<table border=\"1\" class=\"dataframe\">\n",
       "  <thead>\n",
       "    <tr style=\"text-align: right;\">\n",
       "      <th></th>\n",
       "      <th>Last Name</th>\n",
       "      <th>First Name</th>\n",
       "      <th>Work Location Borough</th>\n",
       "      <th>Title Description</th>\n",
       "      <th>Regular Hours</th>\n",
       "      <th>Regular Gross Paid</th>\n",
       "    </tr>\n",
       "  </thead>\n",
       "  <tbody>\n",
       "    <tr>\n",
       "      <th>1</th>\n",
       "      <td>OGUNLEYE</td>\n",
       "      <td>OLUKAYODE</td>\n",
       "      <td>BROOKLYN</td>\n",
       "      <td>CHILD PROTECTIVE SPECIALIST</td>\n",
       "      <td>1890.0</td>\n",
       "      <td>68022.06</td>\n",
       "    </tr>\n",
       "    <tr>\n",
       "      <th>2</th>\n",
       "      <td>LANE</td>\n",
       "      <td>SHIREE</td>\n",
       "      <td>QUEENS</td>\n",
       "      <td>CHILD PROTECTIVE SPECIALIST</td>\n",
       "      <td>1820.0</td>\n",
       "      <td>65605.06</td>\n",
       "    </tr>\n",
       "    <tr>\n",
       "      <th>3</th>\n",
       "      <td>BAKER</td>\n",
       "      <td>DENISE</td>\n",
       "      <td>MANHATTAN</td>\n",
       "      <td>ADM MANAGER-NON-MGRL</td>\n",
       "      <td>1820.0</td>\n",
       "      <td>105447.68</td>\n",
       "    </tr>\n",
       "    <tr>\n",
       "      <th>4</th>\n",
       "      <td>HARVIN</td>\n",
       "      <td>SHANGO</td>\n",
       "      <td>BRONX</td>\n",
       "      <td>YOUTH DEVELOPMENT SPECIALIST</td>\n",
       "      <td>1820.0</td>\n",
       "      <td>56771.73</td>\n",
       "    </tr>\n",
       "    <tr>\n",
       "      <th>5</th>\n",
       "      <td>SIDDIQ</td>\n",
       "      <td>JANNA</td>\n",
       "      <td>BRONX</td>\n",
       "      <td>CHILD PROTECTIVE SPECIALIST</td>\n",
       "      <td>1820.0</td>\n",
       "      <td>65567.23</td>\n",
       "    </tr>\n",
       "  </tbody>\n",
       "</table>\n",
       "</div>"
      ],
      "text/plain": [
       "  Last Name First Name Work Location Borough             Title Description  \\\n",
       "1  OGUNLEYE  OLUKAYODE              BROOKLYN   CHILD PROTECTIVE SPECIALIST   \n",
       "2      LANE     SHIREE                QUEENS   CHILD PROTECTIVE SPECIALIST   \n",
       "3     BAKER     DENISE             MANHATTAN          ADM MANAGER-NON-MGRL   \n",
       "4    HARVIN     SHANGO                 BRONX  YOUTH DEVELOPMENT SPECIALIST   \n",
       "5    SIDDIQ      JANNA                 BRONX   CHILD PROTECTIVE SPECIALIST   \n",
       "\n",
       "   Regular Hours  Regular Gross Paid  \n",
       "1         1890.0            68022.06  \n",
       "2         1820.0            65605.06  \n",
       "3         1820.0           105447.68  \n",
       "4         1820.0            56771.73  \n",
       "5         1820.0            65567.23  "
      ]
     },
     "execution_count": 78,
     "metadata": {},
     "output_type": "execute_result"
    }
   ],
   "source": [
    "# For convenience of the project, I will construct a new dataframe with colukn of interest.\n",
    "# Clean the columns of interest. Make sure regular hours and regular gross paid are positive numbers.\n",
    "df = payroll[payroll['Pay Basis']=='per Annum']\n",
    "df = df[['Last Name', 'First Name', 'Work Location Borough', 'Title Description', 'Regular Hours', 'Regular Gross Paid']]\n",
    "df = df[(df['Regular Hours'] > 0) & (df['Regular Gross Paid'] > 0)]\n",
    "df.head()"
   ]
  },
  {
   "cell_type": "markdown",
   "id": "7d817713-a44b-4995-ae94-bc182073fc50",
   "metadata": {},
   "source": [
    "## Part 1: mean, median, mode"
   ]
  },
  {
   "cell_type": "code",
   "execution_count": 79,
   "id": "235ab337-089a-4dbd-ac93-46d257978916",
   "metadata": {},
   "outputs": [
    {
     "name": "stdout",
     "output_type": "stream",
     "text": [
      "The mean payroll salary is 81982.62348630908 \n",
      "The median is 74132.3 \n",
      "The mode is 153923.33\n"
     ]
    }
   ],
   "source": [
    "mean = df['Regular Gross Paid'].mean()\n",
    "median = df['Regular Gross Paid'].median()\n",
    "mode = df['Regular Gross Paid'].mode()[0]\n",
    "\n",
    "print(\"The mean payroll salary is\", mean, \"\\nThe median is\", median, \"\\nThe mode is\", mode)"
   ]
  },
  {
   "cell_type": "markdown",
   "id": "e34224fc-191c-4a6f-a498-8664fe5a741f",
   "metadata": {},
   "source": [
    "Repeat the previous step using only the Python standard library (“the hard way” - not using pandas, a spreadsheet program, etc).\n",
    "\n",
    "Hint: Use a dictionary to keep track of value counts."
   ]
  },
  {
   "cell_type": "code",
   "execution_count": 80,
   "id": "4d5c7f06-97a6-40ca-81fa-fca8dfd3cab4",
   "metadata": {},
   "outputs": [
    {
     "name": "stdout",
     "output_type": "stream",
     "text": [
      "Mean is:  81982.62348630906\n"
     ]
    }
   ],
   "source": [
    "# mean\n",
    "\n",
    "mean = sum(df['Regular Gross Paid'])/len(df['Regular Gross Paid'])\n",
    "\n",
    "print('Mean is: ', mean)"
   ]
  },
  {
   "cell_type": "code",
   "execution_count": 81,
   "id": "7b98ea81-9468-423b-b0f2-6baea0d0b4f4",
   "metadata": {},
   "outputs": [
    {
     "name": "stdout",
     "output_type": "stream",
     "text": [
      "median is:  74132.3\n"
     ]
    }
   ],
   "source": [
    "# median\n",
    "\n",
    "def calculate_median(data):\n",
    "    sorted_data = sorted(data)\n",
    "    n = len(sorted_data)\n",
    "    mid = n // 2\n",
    "\n",
    "    if n % 2 == 1: \n",
    "        return sorted_data[mid]\n",
    "    else:          \n",
    "        return (sorted_data[mid - 1] + sorted_data[mid]) / 2\n",
    "\n",
    "median = calculate_median(df['Regular Gross Paid'])\n",
    "\n",
    "print('median is: ', median)"
   ]
  },
  {
   "cell_type": "code",
   "execution_count": 82,
   "id": "9cca31ef-27db-44de-b5f9-07133c3f9160",
   "metadata": {},
   "outputs": [
    {
     "name": "stdout",
     "output_type": "stream",
     "text": [
      "mode is:  153923.33\n"
     ]
    }
   ],
   "source": [
    "# mode\n",
    "\n",
    "def calculate_mode(data):\n",
    "    counts = {}\n",
    "    for value in data:\n",
    "        counts[value] = counts.get(value, 0) + 1\n",
    "    max_count = max(counts.values())\n",
    "    modes = [key for key, count in counts.items() if count == max_count]\n",
    "    return modes if len(modes) > 1 else modes[0]\n",
    "\n",
    "mode = calculate_mode(df['Regular Gross Paid'])\n",
    "print('mode is: ', mode)"
   ]
  },
  {
   "cell_type": "markdown",
   "id": "adb99455-28ff-4049-9d31-2a3afb78891e",
   "metadata": {},
   "source": [
    "## Visualization"
   ]
  },
  {
   "cell_type": "code",
   "execution_count": 83,
   "id": "836921e0-863a-4dc0-98b7-0ef37036998d",
   "metadata": {},
   "outputs": [
    {
     "data": {
      "text/html": [
       "<div>\n",
       "<style scoped>\n",
       "    .dataframe tbody tr th:only-of-type {\n",
       "        vertical-align: middle;\n",
       "    }\n",
       "\n",
       "    .dataframe tbody tr th {\n",
       "        vertical-align: top;\n",
       "    }\n",
       "\n",
       "    .dataframe thead th {\n",
       "        text-align: right;\n",
       "    }\n",
       "</style>\n",
       "<table border=\"1\" class=\"dataframe\">\n",
       "  <thead>\n",
       "    <tr style=\"text-align: right;\">\n",
       "      <th></th>\n",
       "      <th>Work Location Borough</th>\n",
       "      <th>Regular Gross Paid</th>\n",
       "    </tr>\n",
       "  </thead>\n",
       "  <tbody>\n",
       "    <tr>\n",
       "      <th>0</th>\n",
       "      <td>ALBANY</td>\n",
       "      <td>84692.175455</td>\n",
       "    </tr>\n",
       "    <tr>\n",
       "      <th>1</th>\n",
       "      <td>BRONX</td>\n",
       "      <td>76769.134478</td>\n",
       "    </tr>\n",
       "    <tr>\n",
       "      <th>2</th>\n",
       "      <td>BROOKLYN</td>\n",
       "      <td>80018.269064</td>\n",
       "    </tr>\n",
       "    <tr>\n",
       "      <th>3</th>\n",
       "      <td>DELAWARE</td>\n",
       "      <td>83719.193788</td>\n",
       "    </tr>\n",
       "    <tr>\n",
       "      <th>4</th>\n",
       "      <td>DUTCHESS</td>\n",
       "      <td>106396.550435</td>\n",
       "    </tr>\n",
       "    <tr>\n",
       "      <th>5</th>\n",
       "      <td>GREENE</td>\n",
       "      <td>67499.010000</td>\n",
       "    </tr>\n",
       "    <tr>\n",
       "      <th>6</th>\n",
       "      <td>MANHATTAN</td>\n",
       "      <td>84091.468176</td>\n",
       "    </tr>\n",
       "    <tr>\n",
       "      <th>7</th>\n",
       "      <td>NASSAU</td>\n",
       "      <td>60088.478500</td>\n",
       "    </tr>\n",
       "    <tr>\n",
       "      <th>8</th>\n",
       "      <td>ORANGE</td>\n",
       "      <td>65311.630000</td>\n",
       "    </tr>\n",
       "    <tr>\n",
       "      <th>9</th>\n",
       "      <td>OTHER</td>\n",
       "      <td>96840.211613</td>\n",
       "    </tr>\n",
       "    <tr>\n",
       "      <th>10</th>\n",
       "      <td>PUTNAM</td>\n",
       "      <td>73738.704242</td>\n",
       "    </tr>\n",
       "    <tr>\n",
       "      <th>11</th>\n",
       "      <td>QUEENS</td>\n",
       "      <td>81325.476848</td>\n",
       "    </tr>\n",
       "    <tr>\n",
       "      <th>12</th>\n",
       "      <td>RICHMOND</td>\n",
       "      <td>88597.665220</td>\n",
       "    </tr>\n",
       "    <tr>\n",
       "      <th>13</th>\n",
       "      <td>SCHOHARIE</td>\n",
       "      <td>98667.877200</td>\n",
       "    </tr>\n",
       "    <tr>\n",
       "      <th>14</th>\n",
       "      <td>SULLIVAN</td>\n",
       "      <td>87573.291743</td>\n",
       "    </tr>\n",
       "    <tr>\n",
       "      <th>15</th>\n",
       "      <td>ULSTER</td>\n",
       "      <td>88554.100972</td>\n",
       "    </tr>\n",
       "    <tr>\n",
       "      <th>16</th>\n",
       "      <td>WESTCHESTER</td>\n",
       "      <td>85703.213445</td>\n",
       "    </tr>\n",
       "  </tbody>\n",
       "</table>\n",
       "</div>"
      ],
      "text/plain": [
       "   Work Location Borough  Regular Gross Paid\n",
       "0                 ALBANY        84692.175455\n",
       "1                  BRONX        76769.134478\n",
       "2               BROOKLYN        80018.269064\n",
       "3               DELAWARE        83719.193788\n",
       "4               DUTCHESS       106396.550435\n",
       "5                 GREENE        67499.010000\n",
       "6              MANHATTAN        84091.468176\n",
       "7                 NASSAU        60088.478500\n",
       "8                 ORANGE        65311.630000\n",
       "9                  OTHER        96840.211613\n",
       "10                PUTNAM        73738.704242\n",
       "11                QUEENS        81325.476848\n",
       "12              RICHMOND        88597.665220\n",
       "13             SCHOHARIE        98667.877200\n",
       "14              SULLIVAN        87573.291743\n",
       "15                ULSTER        88554.100972\n",
       "16           WESTCHESTER        85703.213445"
      ]
     },
     "execution_count": 83,
     "metadata": {},
     "output_type": "execute_result"
    }
   ],
   "source": [
    "borough = df[[\"Work Location Borough\", \"Regular Gross Paid\"]].groupby(\"Work Location Borough\").mean().reset_index()\n",
    "borough"
   ]
  },
  {
   "cell_type": "code",
   "execution_count": 84,
   "id": "d6b13a50-c32b-4aa9-a077-e8f151c17544",
   "metadata": {},
   "outputs": [],
   "source": [
    "def sparkline(data):\n",
    "    # Define Unicode block characters for a sparkline\n",
    "    spark_chars = '▁▂▃▄▅▆▇█'\n",
    "    min_val = min(data)\n",
    "    max_val = max(data)\n",
    "    \n",
    "    # Normalize data to fit into the sparkline range\n",
    "    def scale(value):\n",
    "        if max_val - min_val == 0:\n",
    "            return len(spark_chars) - 1  # All values are the same\n",
    "        return int((value - min_val) / (max_val - min_val) * (len(spark_chars) - 1))\n",
    "    \n",
    "    # Generate sparkline characters\n",
    "    return ''.join(spark_chars[scale(value)] for value in data)\n"
   ]
  },
  {
   "cell_type": "code",
   "execution_count": 85,
   "id": "d3b1f7df-c99c-4bad-99a1-bd62da5e982a",
   "metadata": {},
   "outputs": [
    {
     "name": "stdout",
     "output_type": "stream",
     "text": [
      "ALBANY: 84692.17545454545 ▄\n",
      "BRONX: 76769.13447761194 ▃\n",
      "BROOKLYN: 80018.26906421331 ▄\n",
      "DELAWARE: 83719.19378787879 ▄\n",
      "DUTCHESS: 106396.55043478262 █\n",
      "GREENE: 67499.01 ▂\n",
      "MANHATTAN: 84091.46817562221 ▄\n",
      "NASSAU: 60088.478500000005 ▁\n",
      "ORANGE: 65311.63 ▁\n",
      "OTHER: 96840.21161290322 ▆\n",
      "PUTNAM: 73738.70424242425 ▃\n",
      "QUEENS: 81325.47684847495 ▄\n",
      "RICHMOND: 88597.66521972317 ▅\n",
      "SCHOHARIE: 98667.8772 ▆\n",
      "SULLIVAN: 87573.29174311928 ▅\n",
      "ULSTER: 88554.10097222222 ▅\n",
      "WESTCHESTER: 85703.21344467641 ▄\n"
     ]
    }
   ],
   "source": [
    "# Extract the 'Regular Gross Paid' values from each borough\n",
    "values = borough[\"Regular Gross Paid\"]\n",
    "\n",
    "# Generate the sparkline for the values\n",
    "sparkline_str = sparkline(values)\n",
    "\n",
    "# Print each borough's mean with the sparkline\n",
    "for borough, value, spark in zip(\n",
    "    borough[\"Work Location Borough\"], values, sparkline_str\n",
    "):\n",
    "    print(f\"{borough}: {value} {spark}\")\n"
   ]
  },
  {
   "cell_type": "code",
   "execution_count": null,
   "id": "48dae030-5529-4b4e-966b-4baae9b8070d",
   "metadata": {},
   "outputs": [],
   "source": []
  }
 ],
 "metadata": {
  "kernelspec": {
   "display_name": "Python 3",
   "language": "python",
   "name": "python3"
  },
  "language_info": {
   "codemirror_mode": {
    "name": "ipython",
    "version": 3
   },
   "file_extension": ".py",
   "mimetype": "text/x-python",
   "name": "python",
   "nbconvert_exporter": "python",
   "pygments_lexer": "ipython3",
   "version": "3.12.2"
  }
 },
 "nbformat": 4,
 "nbformat_minor": 5
}
