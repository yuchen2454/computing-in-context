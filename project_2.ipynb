{
 "cells": [
  {
   "cell_type": "code",
   "execution_count": 1,
   "id": "73380adc",
   "metadata": {},
   "outputs": [],
   "source": [
    "import plotly.io as pio\n",
    "\n",
    "pio.renderers.default = \"vscode+jupyterlab+notebook_connected\""
   ]
  },
  {
   "cell_type": "markdown",
   "id": "e06df9b5-5305-47ba-9bba-5da54c7be00f",
   "metadata": {},
   "source": [
    "# Project 2\n",
    "### Analyzing NYPD calls for service & NYPD arrests"
   ]
  },
  {
   "cell_type": "markdown",
   "id": "25248218-4feb-4a86-9510-870341263efc",
   "metadata": {},
   "source": [
    "1. Visualize counts of NYPD calls for service during the year of 2023. Look for patterns that calls are concentrated around specific period of time such as holiday seasons.\n",
    "2. Visualize the relationship between number of services called for vs. number of arrests in different boroughs."
   ]
  },
  {
   "cell_type": "markdown",
   "id": "1cad124b-aad2-4454-921b-2fb158883174",
   "metadata": {},
   "source": [
    "## Part 0: Read the datasets\n",
    "\n",
    "1. **NYPD Calls for Service**: Calls for Service to NYPD's 911 system. This dataset documents entries into the NYPD 911 system, ICAD. The data is collected from the ICAD system which call takers and dispatchers use to communicate with callers and the NYPD.\n",
    "    - `CAD_EVNT_ID` is the unique identifier\n",
    "2. **NYPD Arrests Data**: This is a breakdown of every arrest effected in NYC by the NYPD going back to 2006 through the end of the previous calendar year.(For this project, I queried onlly 2023 data.) This data is manually extracted every quarter and reviewed by the Office of Management Analysis and Planning before being posted on the NYPD website. Each record represents an arrest effected in NYC by the NYPD and includes information about the type of crime, the location and time of enforcement.\n",
    "\n"
   ]
  },
  {
   "cell_type": "code",
   "execution_count": 2,
   "id": "d0ca7383-c691-4260-b349-b8697483158b",
   "metadata": {},
   "outputs": [],
   "source": [
    "# import packages\n",
    "\n",
    "import pandas as pd\n",
    "import plotly.express as px"
   ]
  },
  {
   "cell_type": "code",
   "execution_count": 3,
   "id": "ddeeb5c3-33c1-467c-8596-a507d48d0222",
   "metadata": {},
   "outputs": [
    {
     "ename": "FileNotFoundError",
     "evalue": "[Errno 2] No such file or directory: 'NYPD_Calls_for_Service.csv'",
     "output_type": "error",
     "traceback": [
      "\u001b[0;31m---------------------------------------------------------------------------\u001b[0m",
      "\u001b[0;31mFileNotFoundError\u001b[0m                         Traceback (most recent call last)",
      "\u001b[0;32m/var/folders/s1/pdxc_x2s16507rp9qhbl828c0000gn/T/ipykernel_28610/256898901.py\u001b[0m in \u001b[0;36m<module>\u001b[0;34m\u001b[0m\n\u001b[1;32m      1\u001b[0m \u001b[0;31m# calls\u001b[0m\u001b[0;34m\u001b[0m\u001b[0;34m\u001b[0m\u001b[0m\n\u001b[0;32m----> 2\u001b[0;31m \u001b[0mcalls\u001b[0m \u001b[0;34m=\u001b[0m \u001b[0mpd\u001b[0m\u001b[0;34m.\u001b[0m\u001b[0mread_csv\u001b[0m\u001b[0;34m(\u001b[0m\u001b[0;34m\"NYPD_Calls_for_Service.csv\"\u001b[0m\u001b[0;34m)\u001b[0m\u001b[0;34m\u001b[0m\u001b[0;34m\u001b[0m\u001b[0m\n\u001b[0m\u001b[1;32m      3\u001b[0m \u001b[0;31m# arrests\u001b[0m\u001b[0;34m\u001b[0m\u001b[0;34m\u001b[0m\u001b[0m\n\u001b[1;32m      4\u001b[0m \u001b[0marrests\u001b[0m \u001b[0;34m=\u001b[0m \u001b[0mpd\u001b[0m\u001b[0;34m.\u001b[0m\u001b[0mread_csv\u001b[0m\u001b[0;34m(\u001b[0m\u001b[0;34m\"NYPD_Arrests_Data.csv\"\u001b[0m\u001b[0;34m)\u001b[0m\u001b[0;34m\u001b[0m\u001b[0;34m\u001b[0m\u001b[0m\n",
      "\u001b[0;32m~/opt/anaconda3/lib/python3.9/site-packages/pandas/util/_decorators.py\u001b[0m in \u001b[0;36mwrapper\u001b[0;34m(*args, **kwargs)\u001b[0m\n\u001b[1;32m    309\u001b[0m                     \u001b[0mstacklevel\u001b[0m\u001b[0;34m=\u001b[0m\u001b[0mstacklevel\u001b[0m\u001b[0;34m,\u001b[0m\u001b[0;34m\u001b[0m\u001b[0;34m\u001b[0m\u001b[0m\n\u001b[1;32m    310\u001b[0m                 )\n\u001b[0;32m--> 311\u001b[0;31m             \u001b[0;32mreturn\u001b[0m \u001b[0mfunc\u001b[0m\u001b[0;34m(\u001b[0m\u001b[0;34m*\u001b[0m\u001b[0margs\u001b[0m\u001b[0;34m,\u001b[0m \u001b[0;34m**\u001b[0m\u001b[0mkwargs\u001b[0m\u001b[0;34m)\u001b[0m\u001b[0;34m\u001b[0m\u001b[0;34m\u001b[0m\u001b[0m\n\u001b[0m\u001b[1;32m    312\u001b[0m \u001b[0;34m\u001b[0m\u001b[0m\n\u001b[1;32m    313\u001b[0m         \u001b[0;32mreturn\u001b[0m \u001b[0mwrapper\u001b[0m\u001b[0;34m\u001b[0m\u001b[0;34m\u001b[0m\u001b[0m\n",
      "\u001b[0;32m~/opt/anaconda3/lib/python3.9/site-packages/pandas/io/parsers/readers.py\u001b[0m in \u001b[0;36mread_csv\u001b[0;34m(filepath_or_buffer, sep, delimiter, header, names, index_col, usecols, squeeze, prefix, mangle_dupe_cols, dtype, engine, converters, true_values, false_values, skipinitialspace, skiprows, skipfooter, nrows, na_values, keep_default_na, na_filter, verbose, skip_blank_lines, parse_dates, infer_datetime_format, keep_date_col, date_parser, dayfirst, cache_dates, iterator, chunksize, compression, thousands, decimal, lineterminator, quotechar, quoting, doublequote, escapechar, comment, encoding, encoding_errors, dialect, error_bad_lines, warn_bad_lines, on_bad_lines, delim_whitespace, low_memory, memory_map, float_precision, storage_options)\u001b[0m\n\u001b[1;32m    676\u001b[0m     \u001b[0mkwds\u001b[0m\u001b[0;34m.\u001b[0m\u001b[0mupdate\u001b[0m\u001b[0;34m(\u001b[0m\u001b[0mkwds_defaults\u001b[0m\u001b[0;34m)\u001b[0m\u001b[0;34m\u001b[0m\u001b[0;34m\u001b[0m\u001b[0m\n\u001b[1;32m    677\u001b[0m \u001b[0;34m\u001b[0m\u001b[0m\n\u001b[0;32m--> 678\u001b[0;31m     \u001b[0;32mreturn\u001b[0m \u001b[0m_read\u001b[0m\u001b[0;34m(\u001b[0m\u001b[0mfilepath_or_buffer\u001b[0m\u001b[0;34m,\u001b[0m \u001b[0mkwds\u001b[0m\u001b[0;34m)\u001b[0m\u001b[0;34m\u001b[0m\u001b[0;34m\u001b[0m\u001b[0m\n\u001b[0m\u001b[1;32m    679\u001b[0m \u001b[0;34m\u001b[0m\u001b[0m\n\u001b[1;32m    680\u001b[0m \u001b[0;34m\u001b[0m\u001b[0m\n",
      "\u001b[0;32m~/opt/anaconda3/lib/python3.9/site-packages/pandas/io/parsers/readers.py\u001b[0m in \u001b[0;36m_read\u001b[0;34m(filepath_or_buffer, kwds)\u001b[0m\n\u001b[1;32m    573\u001b[0m \u001b[0;34m\u001b[0m\u001b[0m\n\u001b[1;32m    574\u001b[0m     \u001b[0;31m# Create the parser.\u001b[0m\u001b[0;34m\u001b[0m\u001b[0;34m\u001b[0m\u001b[0m\n\u001b[0;32m--> 575\u001b[0;31m     \u001b[0mparser\u001b[0m \u001b[0;34m=\u001b[0m \u001b[0mTextFileReader\u001b[0m\u001b[0;34m(\u001b[0m\u001b[0mfilepath_or_buffer\u001b[0m\u001b[0;34m,\u001b[0m \u001b[0;34m**\u001b[0m\u001b[0mkwds\u001b[0m\u001b[0;34m)\u001b[0m\u001b[0;34m\u001b[0m\u001b[0;34m\u001b[0m\u001b[0m\n\u001b[0m\u001b[1;32m    576\u001b[0m \u001b[0;34m\u001b[0m\u001b[0m\n\u001b[1;32m    577\u001b[0m     \u001b[0;32mif\u001b[0m \u001b[0mchunksize\u001b[0m \u001b[0;32mor\u001b[0m \u001b[0miterator\u001b[0m\u001b[0;34m:\u001b[0m\u001b[0;34m\u001b[0m\u001b[0;34m\u001b[0m\u001b[0m\n",
      "\u001b[0;32m~/opt/anaconda3/lib/python3.9/site-packages/pandas/io/parsers/readers.py\u001b[0m in \u001b[0;36m__init__\u001b[0;34m(self, f, engine, **kwds)\u001b[0m\n\u001b[1;32m    930\u001b[0m \u001b[0;34m\u001b[0m\u001b[0m\n\u001b[1;32m    931\u001b[0m         \u001b[0mself\u001b[0m\u001b[0;34m.\u001b[0m\u001b[0mhandles\u001b[0m\u001b[0;34m:\u001b[0m \u001b[0mIOHandles\u001b[0m \u001b[0;34m|\u001b[0m \u001b[0;32mNone\u001b[0m \u001b[0;34m=\u001b[0m \u001b[0;32mNone\u001b[0m\u001b[0;34m\u001b[0m\u001b[0;34m\u001b[0m\u001b[0m\n\u001b[0;32m--> 932\u001b[0;31m         \u001b[0mself\u001b[0m\u001b[0;34m.\u001b[0m\u001b[0m_engine\u001b[0m \u001b[0;34m=\u001b[0m \u001b[0mself\u001b[0m\u001b[0;34m.\u001b[0m\u001b[0m_make_engine\u001b[0m\u001b[0;34m(\u001b[0m\u001b[0mf\u001b[0m\u001b[0;34m,\u001b[0m \u001b[0mself\u001b[0m\u001b[0;34m.\u001b[0m\u001b[0mengine\u001b[0m\u001b[0;34m)\u001b[0m\u001b[0;34m\u001b[0m\u001b[0;34m\u001b[0m\u001b[0m\n\u001b[0m\u001b[1;32m    933\u001b[0m \u001b[0;34m\u001b[0m\u001b[0m\n\u001b[1;32m    934\u001b[0m     \u001b[0;32mdef\u001b[0m \u001b[0mclose\u001b[0m\u001b[0;34m(\u001b[0m\u001b[0mself\u001b[0m\u001b[0;34m)\u001b[0m\u001b[0;34m:\u001b[0m\u001b[0;34m\u001b[0m\u001b[0;34m\u001b[0m\u001b[0m\n",
      "\u001b[0;32m~/opt/anaconda3/lib/python3.9/site-packages/pandas/io/parsers/readers.py\u001b[0m in \u001b[0;36m_make_engine\u001b[0;34m(self, f, engine)\u001b[0m\n\u001b[1;32m   1214\u001b[0m             \u001b[0;31m# \"Union[str, PathLike[str], ReadCsvBuffer[bytes], ReadCsvBuffer[str]]\"\u001b[0m\u001b[0;34m\u001b[0m\u001b[0;34m\u001b[0m\u001b[0m\n\u001b[1;32m   1215\u001b[0m             \u001b[0;31m# , \"str\", \"bool\", \"Any\", \"Any\", \"Any\", \"Any\", \"Any\"\u001b[0m\u001b[0;34m\u001b[0m\u001b[0;34m\u001b[0m\u001b[0m\n\u001b[0;32m-> 1216\u001b[0;31m             self.handles = get_handle(  # type: ignore[call-overload]\n\u001b[0m\u001b[1;32m   1217\u001b[0m                 \u001b[0mf\u001b[0m\u001b[0;34m,\u001b[0m\u001b[0;34m\u001b[0m\u001b[0;34m\u001b[0m\u001b[0m\n\u001b[1;32m   1218\u001b[0m                 \u001b[0mmode\u001b[0m\u001b[0;34m,\u001b[0m\u001b[0;34m\u001b[0m\u001b[0;34m\u001b[0m\u001b[0m\n",
      "\u001b[0;32m~/opt/anaconda3/lib/python3.9/site-packages/pandas/io/common.py\u001b[0m in \u001b[0;36mget_handle\u001b[0;34m(path_or_buf, mode, encoding, compression, memory_map, is_text, errors, storage_options)\u001b[0m\n\u001b[1;32m    784\u001b[0m         \u001b[0;32mif\u001b[0m \u001b[0mioargs\u001b[0m\u001b[0;34m.\u001b[0m\u001b[0mencoding\u001b[0m \u001b[0;32mand\u001b[0m \u001b[0;34m\"b\"\u001b[0m \u001b[0;32mnot\u001b[0m \u001b[0;32min\u001b[0m \u001b[0mioargs\u001b[0m\u001b[0;34m.\u001b[0m\u001b[0mmode\u001b[0m\u001b[0;34m:\u001b[0m\u001b[0;34m\u001b[0m\u001b[0;34m\u001b[0m\u001b[0m\n\u001b[1;32m    785\u001b[0m             \u001b[0;31m# Encoding\u001b[0m\u001b[0;34m\u001b[0m\u001b[0;34m\u001b[0m\u001b[0m\n\u001b[0;32m--> 786\u001b[0;31m             handle = open(\n\u001b[0m\u001b[1;32m    787\u001b[0m                 \u001b[0mhandle\u001b[0m\u001b[0;34m,\u001b[0m\u001b[0;34m\u001b[0m\u001b[0;34m\u001b[0m\u001b[0m\n\u001b[1;32m    788\u001b[0m                 \u001b[0mioargs\u001b[0m\u001b[0;34m.\u001b[0m\u001b[0mmode\u001b[0m\u001b[0;34m,\u001b[0m\u001b[0;34m\u001b[0m\u001b[0;34m\u001b[0m\u001b[0m\n",
      "\u001b[0;31mFileNotFoundError\u001b[0m: [Errno 2] No such file or directory: 'NYPD_Calls_for_Service.csv'"
     ]
    }
   ],
   "source": [
    "\n",
    "# calls\n",
    "calls = pd.read_csv(\"NYPD_Calls_for_Service.csv\")\n",
    "# arrests \n",
    "arrests = pd.read_csv(\"NYPD_Arrests_Data.csv\")"
   ]
  },
  {
   "cell_type": "markdown",
   "id": "f222701f-b502-4044-a60d-dfee1fdd6e28",
   "metadata": {},
   "source": [
    "**For the convenience of merging two datasets, create a column `boro` in two datasets for the borough information:** \n",
    "- `boro`: bronx, queens, manhattan, brooklyn, state island."
   ]
  },
  {
   "cell_type": "code",
   "execution_count": null,
   "id": "79d7523d-a71d-4864-9eeb-f4c1d5ce818e",
   "metadata": {},
   "outputs": [],
   "source": [
    "calls[\"boro\"] = calls[\"BORO_NM\"].str.lower()\n",
    "\n",
    "location_mapping = {\n",
    "    'K': 'brooklyn',\n",
    "    'M': 'manhattan',\n",
    "    'B': 'bronx',\n",
    "    'Q': 'queens',\n",
    "    'S': 'staten island'\n",
    "}\n",
    "\n",
    "arrests['boro'] = arrests['ARREST_BORO'].map(location_mapping)"
   ]
  },
  {
   "cell_type": "markdown",
   "id": "f6bad583-6453-493c-9daf-f3730cd34bba",
   "metadata": {},
   "source": [
    "## Part 1: Seperately explore & visualize two datasets"
   ]
  },
  {
   "cell_type": "markdown",
   "id": "9a8295c2-717b-4276-a9cb-a15eff899c53",
   "metadata": {},
   "source": [
    "### What time of the year does the NYPD receive the most calls?"
   ]
  },
  {
   "cell_type": "markdown",
   "id": "5089da92-d20b-4a6d-a7d7-25af12cd5784",
   "metadata": {},
   "source": [
    "#### Calls vs. Date"
   ]
  },
  {
   "cell_type": "code",
   "execution_count": null,
   "id": "033553c9-4acc-41ae-8411-a0ef4ee671c0",
   "metadata": {},
   "outputs": [],
   "source": [
    "## counts of NYPD calls vs. date\n",
    "\n",
    "df1 = calls[['CAD_EVNT_ID', 'INCIDENT_DATE', 'boro','TYP_DESC']].copy()\n",
    "df1['INCIDENT_DATE'] = pd.to_datetime(df1[\"INCIDENT_DATE\"], format=\"%m/%d/%Y\")\n"
   ]
  },
  {
   "cell_type": "code",
   "execution_count": null,
   "id": "d8da230c-85ee-4b67-af4e-0cf2e27f263d",
   "metadata": {},
   "outputs": [],
   "source": [
    "# group by date and count for incidents\n",
    "counts_date = df1.groupby(pd.Grouper(key=\"INCIDENT_DATE\", freq=\"D\")).size().to_frame(name=\"counts\")"
   ]
  },
  {
   "cell_type": "code",
   "execution_count": null,
   "id": "bd8f843f-d647-4014-9358-18092366f2b2",
   "metadata": {
    "scrolled": true
   },
   "outputs": [],
   "source": [
    "# plot: counts vs. date\n",
    "\n",
    "px.line(counts_date,\n",
    "            y = 'counts',\n",
    "            title = 'Count of NYPD Calls Over Time',\n",
    "            labels = {'x':'Date'})"
   ]
  },
  {
   "cell_type": "markdown",
   "id": "b6a26410-db04-4eb5-8c4b-655320d73988",
   "metadata": {},
   "source": [
    "**The plot above shows** \n",
    "- The number of calls varied significantly acrosss date. Generally, less calls during the summertime, and more calls in January to March. This is not a clear way to see the pattern, so I would now try to visualize the calls by month."
   ]
  },
  {
   "cell_type": "markdown",
   "id": "451568d0-71a2-4025-be23-d9ed3f73f748",
   "metadata": {},
   "source": [
    "#### Calls vs. Month"
   ]
  },
  {
   "cell_type": "code",
   "execution_count": null,
   "id": "bdd499d9-7731-46a4-8ab6-7213af93e13d",
   "metadata": {},
   "outputs": [],
   "source": [
    "counts_month = df1.groupby(pd.Grouper(key=\"INCIDENT_DATE\", freq=\"m\")).size().to_frame(name=\"counts\").reset_index()"
   ]
  },
  {
   "cell_type": "code",
   "execution_count": null,
   "id": "5708e724-5f78-45dd-9b0a-b60ea3dc9067",
   "metadata": {},
   "outputs": [],
   "source": [
    "# Plot\n",
    "fig = px.line(counts_month, \n",
    "              x = 'INCIDENT_DATE', \n",
    "              y = 'counts', \n",
    "              text='counts', \n",
    "              title = 'Count of NYPD Calls Over Time')\n",
    "fig.update_layout( \n",
    "    xaxis_title=\"\")\n",
    "\n",
    "fig.show()"
   ]
  },
  {
   "cell_type": "markdown",
   "id": "c267b172-5439-4121-93e0-3e67dcb3473b",
   "metadata": {},
   "source": [
    "**The plot above shows:**\n",
    "- NYPD calls concentrated in Feburary, April, Jun, and November. The lowest number are observed in September, October"
   ]
  },
  {
   "cell_type": "markdown",
   "id": "fce229fd-a63f-4b58-9f97-7f8443222a3e",
   "metadata": {},
   "source": [
    "#### Calls vs. Date with Borough"
   ]
  },
  {
   "cell_type": "code",
   "execution_count": null,
   "id": "911d1721-b273-4b8c-bacb-48d61c7be8e2",
   "metadata": {},
   "outputs": [],
   "source": [
    "counts_date_boro = df1.groupby([pd.Grouper(key=\"INCIDENT_DATE\", freq=\"D\"),'boro']).size().to_frame(name=\"counts\").reset_index()"
   ]
  },
  {
   "cell_type": "code",
   "execution_count": null,
   "id": "d8902524-54ef-4e05-9fc2-4e5acbfad931",
   "metadata": {
    "scrolled": true
   },
   "outputs": [],
   "source": [
    "# plot: counts vs. date, colored by boro\n",
    "\n",
    "fig = px.line(counts_date_boro,\n",
    "            x = 'INCIDENT_DATE',\n",
    "            y = 'counts',\n",
    "            title = 'Count of NYPD Calls Over Time', \n",
    "            color = 'boro',\n",
    "            labels = {'x':'Date'})\n",
    "fig.show()"
   ]
  },
  {
   "cell_type": "markdown",
   "id": "3e777eaa-a881-441f-88d8-7004ee73565b",
   "metadata": {},
   "source": [
    "**The above plot shows:**\n",
    "- Brooklyn and Manhattan have more NYPD calls, bronx and queens have similar number of NYPD calls, and state island has the least number of NYPD calls. This makes sense if we think about the population in these districts."
   ]
  },
  {
   "cell_type": "markdown",
   "id": "2d90e092-5e6f-415b-aa64-8012ecf30a00",
   "metadata": {},
   "source": [
    "### Explore the arrests data"
   ]
  },
  {
   "cell_type": "code",
   "execution_count": null,
   "id": "2dbc2be1-65bf-4f7d-bdcb-b5f8f4dbd157",
   "metadata": {},
   "outputs": [],
   "source": [
    "df2 = arrests[['ARREST_KEY', 'ARREST_DATE', 'AGE_GROUP','PERP_SEX', 'PERP_RACE', 'boro']].copy()\n",
    "df2['ARREST_DATE'] = pd.to_datetime(df2[\"ARREST_DATE\"], format=\"%m/%d/%Y\")"
   ]
  },
  {
   "cell_type": "markdown",
   "id": "e14bd6c3-477f-4474-9995-72dd8a40537e",
   "metadata": {},
   "source": [
    "#### Arrests vs. Date"
   ]
  },
  {
   "cell_type": "code",
   "execution_count": null,
   "id": "bf9b42e9-34ae-4cf7-b06a-fac1fc69b106",
   "metadata": {},
   "outputs": [],
   "source": [
    "# group by date and count for incidents\n",
    "counts_arrest_date = df2.groupby(pd.Grouper(key=\"ARREST_DATE\", freq=\"D\")).size().to_frame(name=\"counts\")"
   ]
  },
  {
   "cell_type": "code",
   "execution_count": null,
   "id": "bbc05e1b-4508-4cd8-b649-b0e88f692b9d",
   "metadata": {},
   "outputs": [],
   "source": [
    "# plot: counts vs. date\n",
    "\n",
    "px.line(counts_arrest_date,\n",
    "            y = 'counts',\n",
    "            title = 'Count of NYPD Calls Over Time',\n",
    "            labels = {'x':'Date'})"
   ]
  },
  {
   "cell_type": "markdown",
   "id": "bfffad8c-6399-4407-9aa1-eb34e61f14b4",
   "metadata": {},
   "source": [
    "#### Arrests vs. Month"
   ]
  },
  {
   "cell_type": "code",
   "execution_count": null,
   "id": "18e52d8a-f73c-4c12-afd5-7201f81a7d2a",
   "metadata": {},
   "outputs": [],
   "source": [
    "counts_arrest_month = df2.groupby(pd.Grouper(key=\"ARREST_DATE\", freq=\"m\")).size().to_frame(name=\"counts\").reset_index()"
   ]
  },
  {
   "cell_type": "code",
   "execution_count": null,
   "id": "6c9236cf-302f-42b5-8086-c793cd2adb9d",
   "metadata": {},
   "outputs": [],
   "source": [
    "# Plot\n",
    "fig = px.line(counts_arrest_month, \n",
    "              x = 'ARREST_DATE', \n",
    "              y = 'counts', \n",
    "              text='counts', \n",
    "              title = 'Count of NYPD Arrests Over Time')\n",
    "fig.update_layout( \n",
    "    xaxis_title=\"\")\n",
    "\n",
    "fig.show()"
   ]
  },
  {
   "cell_type": "markdown",
   "id": "9c7ef90c-10a5-4c77-bb6d-45ec768b8f7a",
   "metadata": {},
   "source": [
    "#### Race"
   ]
  },
  {
   "cell_type": "code",
   "execution_count": null,
   "id": "bd61a894-53e5-47f0-8c3f-4e8572f5f70a",
   "metadata": {},
   "outputs": [],
   "source": [
    "counts_arrest_date_race = df2.groupby(\n",
    "    [pd.Grouper(key=\"ARREST_DATE\", freq=\"m\"),'PERP_RACE']).size().to_frame(name=\"counts\").reset_index()"
   ]
  },
  {
   "cell_type": "code",
   "execution_count": null,
   "id": "a73d3898-a349-4af5-9b0b-075bab386d98",
   "metadata": {},
   "outputs": [],
   "source": [
    "# plot: counts vs. date, colored by boro\n",
    "\n",
    "fig = px.line(counts_arrest_date_race,\n",
    "            x = 'ARREST_DATE',\n",
    "            y = 'counts',\n",
    "            title = 'Count of NYPD Arrests Over Time', \n",
    "            color = 'PERP_RACE',\n",
    "            labels = {'x':'Date', 'PERP_RACE':\"Race\"})\n",
    "fig.show()"
   ]
  },
  {
   "cell_type": "markdown",
   "id": "cdde4814-54a7-403f-9346-ee1ddef6d8b0",
   "metadata": {},
   "source": [
    "### Part 2: Explore & visualize the interaction of two datasets"
   ]
  },
  {
   "cell_type": "markdown",
   "id": "2bd6b030-7927-421a-bcd2-d7cc49633a12",
   "metadata": {},
   "source": [
    "#### Arrests / Calls Ratio"
   ]
  },
  {
   "cell_type": "code",
   "execution_count": null,
   "id": "f3b82183-f0dc-4e68-b0f2-8cda77e488dd",
   "metadata": {},
   "outputs": [],
   "source": [
    "counts_2023_calls = df1.groupby('boro').size().to_frame(name=\"calls_counts\").reset_index()\n",
    "counts_2023_arrests = df2.groupby('boro').size().to_frame(name=\"arrests_counts\").reset_index()\n",
    "df3 = counts_2023_arrests.merge(counts_2023_calls, on = 'boro', how = 'inner')\n",
    "ratio_2023=df3.copy()\n",
    "ratio_2023['arrest_call_ratio'] = ratio_2023['arrests_counts']/ratio_2023['calls_counts']"
   ]
  },
  {
   "cell_type": "code",
   "execution_count": null,
   "id": "2484c4fe-760d-4747-b7f7-d1300e2951e9",
   "metadata": {},
   "outputs": [],
   "source": [
    "ratio_2023"
   ]
  },
  {
   "cell_type": "code",
   "execution_count": null,
   "id": "f6fffa66-e309-4598-b557-6162dc9f59fd",
   "metadata": {},
   "outputs": [],
   "source": [
    "fig = px.bar(ratio_2023, \n",
    "              x = 'boro', \n",
    "              y = 'arrest_call_ratio', \n",
    "              title = 'Arrest/Call Ratio Across Boroughs', \n",
    "            labels={'arrest_call_ratio': \"Percentage\", 'boro': \"\"})\n",
    "\n",
    "fig.show()"
   ]
  },
  {
   "cell_type": "markdown",
   "id": "ef5ddde5-6e04-46a0-8964-5590e04ec053",
   "metadata": {},
   "source": [
    "**The above plot shows**:\n",
    "- Manhattan has the lowest arrests-to-calls ratio, which could suggest potential differences in policing practices or the nature of incidents compared to other boroughs."
   ]
  },
  {
   "cell_type": "code",
   "execution_count": null,
   "id": "4aba3eaf-b610-4e01-a871-81cf75689da8",
   "metadata": {},
   "outputs": [],
   "source": []
  }
 ],
 "metadata": {
  "kernelspec": {
   "display_name": "Python 3",
   "language": "python",
   "name": "python3"
  },
  "language_info": {
   "codemirror_mode": {
    "name": "ipython",
    "version": 3
   },
   "file_extension": ".py",
   "mimetype": "text/x-python",
   "name": "python",
   "nbconvert_exporter": "python",
   "pygments_lexer": "ipython3",
   "version": "3.9.13"
  }
 },
 "nbformat": 4,
 "nbformat_minor": 5
}
